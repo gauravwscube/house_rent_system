{
 "cells": [
  {
   "cell_type": "code",
   "execution_count": 1,
   "id": "5a755970-1ba2-42b7-ba68-1e7668a506a5",
   "metadata": {},
   "outputs": [],
   "source": [
    "import pandas as pd\n",
    "import matplotlib.pyplot as plt\n",
    "import seaborn as sns"
   ]
  },
  {
   "cell_type": "code",
   "execution_count": 2,
   "id": "04b323a4-b87a-402a-863b-5e6993bbc908",
   "metadata": {},
   "outputs": [],
   "source": [
    "dataset = pd.read_csv(\"diabetes.csv\")"
   ]
  },
  {
   "cell_type": "code",
   "execution_count": 3,
   "id": "13c81964-42ed-4c77-b9ec-4a097b210b5c",
   "metadata": {},
   "outputs": [
    {
     "data": {
      "text/html": [
       "<div>\n",
       "<style scoped>\n",
       "    .dataframe tbody tr th:only-of-type {\n",
       "        vertical-align: middle;\n",
       "    }\n",
       "\n",
       "    .dataframe tbody tr th {\n",
       "        vertical-align: top;\n",
       "    }\n",
       "\n",
       "    .dataframe thead th {\n",
       "        text-align: right;\n",
       "    }\n",
       "</style>\n",
       "<table border=\"1\" class=\"dataframe\">\n",
       "  <thead>\n",
       "    <tr style=\"text-align: right;\">\n",
       "      <th></th>\n",
       "      <th>Glucose</th>\n",
       "      <th>BloodPressure</th>\n",
       "      <th>SkinThickness</th>\n",
       "      <th>BMI</th>\n",
       "      <th>Age</th>\n",
       "      <th>Outcome</th>\n",
       "    </tr>\n",
       "  </thead>\n",
       "  <tbody>\n",
       "    <tr>\n",
       "      <th>0</th>\n",
       "      <td>148</td>\n",
       "      <td>72</td>\n",
       "      <td>35</td>\n",
       "      <td>33.6</td>\n",
       "      <td>50</td>\n",
       "      <td>1</td>\n",
       "    </tr>\n",
       "    <tr>\n",
       "      <th>1</th>\n",
       "      <td>85</td>\n",
       "      <td>66</td>\n",
       "      <td>29</td>\n",
       "      <td>26.6</td>\n",
       "      <td>31</td>\n",
       "      <td>0</td>\n",
       "    </tr>\n",
       "    <tr>\n",
       "      <th>2</th>\n",
       "      <td>183</td>\n",
       "      <td>64</td>\n",
       "      <td>0</td>\n",
       "      <td>23.3</td>\n",
       "      <td>32</td>\n",
       "      <td>1</td>\n",
       "    </tr>\n",
       "  </tbody>\n",
       "</table>\n",
       "</div>"
      ],
      "text/plain": [
       "   Glucose  BloodPressure  SkinThickness   BMI  Age  Outcome\n",
       "0      148             72             35  33.6   50        1\n",
       "1       85             66             29  26.6   31        0\n",
       "2      183             64              0  23.3   32        1"
      ]
     },
     "execution_count": 3,
     "metadata": {},
     "output_type": "execute_result"
    }
   ],
   "source": [
    "dataset.head(3)"
   ]
  },
  {
   "cell_type": "code",
   "execution_count": 4,
   "id": "8be24d55-1a0d-4eeb-8f04-9b2a68a8e553",
   "metadata": {},
   "outputs": [],
   "source": [
    "x = dataset.iloc[:,:-1]\n",
    "y = dataset[\"Outcome\"]"
   ]
  },
  {
   "cell_type": "code",
   "execution_count": 5,
   "id": "a690e552-ebdd-4dc8-8d40-d73094b820df",
   "metadata": {},
   "outputs": [],
   "source": [
    "from sklearn.tree import DecisionTreeClassifier"
   ]
  },
  {
   "cell_type": "code",
   "execution_count": 6,
   "id": "611d63f1-0e60-4d63-88b2-04a2fc978fc3",
   "metadata": {},
   "outputs": [],
   "source": [
    "dt = DecisionTreeClassifier()"
   ]
  },
  {
   "cell_type": "code",
   "execution_count": 7,
   "id": "f1cd313b-45de-4dec-af4a-badc3d46333d",
   "metadata": {},
   "outputs": [],
   "source": [
    "from mlxtend.feature_selection import SequentialFeatureSelector"
   ]
  },
  {
   "cell_type": "code",
   "execution_count": 11,
   "id": "14ed5bdf-bb40-4cba-8e21-257ae3780c90",
   "metadata": {},
   "outputs": [
    {
     "data": {
      "text/plain": [
       "0.7226720991426874"
      ]
     },
     "execution_count": 11,
     "metadata": {},
     "output_type": "execute_result"
    }
   ],
   "source": [
    "('Glucose', 'BloodPressure', 'BMI', 'Age')\n",
    "0.7226720991426874"
   ]
  },
  {
   "cell_type": "code",
   "execution_count": 18,
   "id": "e59e857b-cb9c-4127-bd56-235c02555bd3",
   "metadata": {},
   "outputs": [
    {
     "name": "stdout",
     "output_type": "stream",
     "text": [
      "('Glucose',)\n",
      "0.716204057380528\n",
      "('Glucose', 'BMI')\n",
      "0.6887955182072829\n",
      "('Glucose', 'BMI', 'Age')\n",
      "0.6927765045412105\n",
      "('Glucose', 'BloodPressure', 'BMI', 'Age')\n",
      "0.7122485357779477\n",
      "('Glucose', 'BloodPressure', 'SkinThickness', 'BMI', 'Age')\n",
      "0.7084118495883202\n"
     ]
    }
   ],
   "source": [
    "for i in range(1,x.shape[1]+1):\n",
    "    sfc = SequentialFeatureSelector(estimator=dt,k_features=i ,forward=False)\n",
    "    sfc.fit(x,y)\n",
    "    print(sfc.k_feature_names_)\n",
    "    print(sfc.k_score_)"
   ]
  },
  {
   "cell_type": "code",
   "execution_count": null,
   "id": "93bc273f-e74c-401f-8089-1d7400db80b0",
   "metadata": {},
   "outputs": [],
   "source": []
  }
 ],
 "metadata": {
  "kernelspec": {
   "display_name": "Python 3 (ipykernel)",
   "language": "python",
   "name": "python3"
  },
  "language_info": {
   "codemirror_mode": {
    "name": "ipython",
    "version": 3
   },
   "file_extension": ".py",
   "mimetype": "text/x-python",
   "name": "python",
   "nbconvert_exporter": "python",
   "pygments_lexer": "ipython3",
   "version": "3.10.11"
  }
 },
 "nbformat": 4,
 "nbformat_minor": 5
}
